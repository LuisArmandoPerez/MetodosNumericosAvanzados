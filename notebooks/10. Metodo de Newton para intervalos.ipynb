{
 "cells": [
  {
   "cell_type": "markdown",
   "metadata": {},
   "source": [
    "# El método de Newton para intervalos"
   ]
  },
  {
   "cell_type": "markdown",
   "metadata": {},
   "source": [
    "Igual que en la clase anterior, supondremos que $f(x)$ es una función continuamente diferenciable y que existe un valor $x^*$ donde $f(x^*)=0$ (es decir, $x^*$ es una raíz de $f$). Aquí abordaremos de nuevo cómo encontrar las raíces de $f$ dentro de un intervalo inicial $X$. Supondremos además que existe una extensión del intervalo $F'$ para la derivada $f'$, y que (por el momento) éste no contiene al cero: $0\\notin F'(X)$.\n",
    "\n",
    "La clave del método de Newton para intervalos está en aplicar el *teorema del valor medio*, que nos asegura que para cualquier $x\\in X$ se cumple que\n",
    "\n",
    "\\begin{equation}\n",
    "f(x) = f(x^*) + f'(\\xi) \\cdot (x-x^*),\n",
    "\\end{equation}\n",
    "\n",
    "para algúna $\\xi$ entre $x$ y $x^*$. Aquí, $\\xi$ es un valor desconocido, pero podemos utilizar el hecho de que está contenido en el intervalo: $\\xi \\in X$."
   ]
  },
  {
   "cell_type": "markdown",
   "metadata": {},
   "source": [
    "Por lo tanto, obtenemos \n",
    "\n",
    "\\begin{equation}\n",
    "x^* = x - \\frac{f(x)}{f'(\\xi)} \\in x - \\frac{f(x)}{F'(X)} =: N(X,x),\n",
    "\\end{equation}\n",
    "donde hemos definido un operador $N$ que actúa sobre un intervalo y *cualquier* punto en el intervalo.\n",
    "\n",
    "Si suponemos que $x^*\\in X$, entonces $x^* \\in N(X,x)\\cap X$ para toda $x\\in X$.\n",
    "\n",
    "Una elección particular es $x = m := \\mathrm{mid}(X)$, el punto medio del intervalo $X$. Entonces obtenemos el llamado *operador de Newton para intervalos*:\n",
    "\n",
    "\\begin{equation}\n",
    "N(X) := N(X,m) = m - \\frac{f(m)}{F'(X)}.\n",
    "\\end{equation}\n",
    "\n",
    "Nota que cuando implementamos esto en la computadora, en general $f(m)$ no se podrá calcular exactamente, por lo cual es necesario convertir $m$ en un intervalo $M := [m,m]$, y usar la extensión natural $F(M)$, así que tenemos finalmente \n",
    "\n",
    "\\begin{equation}\n",
    "N(X) := M - \\frac{F(M)}{F'(X)},\n",
    "\\end{equation}\n",
    "donde ahora todos son intervalos."
   ]
  },
  {
   "cell_type": "markdown",
   "metadata": {},
   "source": [
    "Ahora podemos definir una sucesión de intervalos a partir de un intervalo inicial $X_0$, dada por $X_{k+1} := X_k \\cap N(X_k)$. Por construcción, si $x^*\\in X_0$ entonces $x^*\\in X_k$ para toda $k$. Entonces, si $X_0$ contiene a una raíz, la raíz se mantiene dentro de la secuencia de intervalos, que de hecho forman una secuencia anidada que converge a $x^*$. Entonces, si controlamos que de alguna manera el diámetro de los intervalos $x_k$ disminuya, obtendremos cotas precisas para $x^*$. Esto es el contenido del **Teorema del método de Newton para intervalos**."
   ]
  },
  {
   "cell_type": "markdown",
   "metadata": {},
   "source": [
    "Más aún, si $f(x)$ es doblemente continua y diferenciable y $N(X)$ está bien definida en el intervalo $X$, se puede demostrar que \n",
    "\n",
    "1. Si $N(X)\\cap X = \\emptyset$, es decir, $N(X)$ no se intersecta con $X$, entonces $X$ no contiene ninguna raíz de $f$.\n",
    "\n",
    "2. Si $N(X) \\subseteq X$, entonces $X$ contiene exactamente una raíz de $f$.\n",
    "\n"
   ]
  },
  {
   "cell_type": "markdown",
   "metadata": {},
   "source": [
    "[1] Escribe una función que calcule el operador de Newton para un intervalo $X$, dadas $f(x)$ y $f'(x)$.\n",
    "\n",
    "[2] Implementa el método de Newton para intervalos para encontrar las raíces de $f(x) = x^3 - 1$ a partir de $X=[-3,3]$. Muestra gráficamente la implementación del método. En cada iteración subsecuente del método, ilustra qué le pasa al diámetro de la refincación del intervalo que vas obteniendo.\n"
   ]
  },
  {
   "cell_type": "markdown",
   "metadata": {},
   "source": [
    "[3] Usando tu implementación, *demuestra* que en el mismo intervalo $X=[-3,3]$ que $g(x) = x^2+1$ no tiene ninguna raíz. Ilustra gráficamente esto.\n",
    "\n",
    "Hint: En el caso en que $0\\in F'(x)$ las hipótesis del teorema no se cumplen. En ese caso hay que dividir el intervalo (bisección por ejemplo) y tratar de que las hipótesis del teorema se cumplan, para poder aplicarlo. Extiende tus funciones para que incluyan esta situación. En ese caso, cada subdivisión debe ser probada si puede o no tener una raíz."
   ]
  },
  {
   "cell_type": "markdown",
   "metadata": {},
   "source": [
    "[4] Considera la familia de polinomios de Wilkinson definidos por $W_n(x) = \\prod_{i=1}^n(x-i)$. Partiendo de un intervalo simétrico alrededor de cero, implementa el método de Newton para encontrar sus raíces, utilizando diferenciación automática."
   ]
  }
 ],
 "metadata": {
  "kernelspec": {
   "display_name": "Julia 0.3.8-pre",
   "language": "julia",
   "name": "julia 0.3"
  },
  "language_info": {
   "name": "julia",
   "version": "0.3.8"
  }
 },
 "nbformat": 4,
 "nbformat_minor": 0
}
