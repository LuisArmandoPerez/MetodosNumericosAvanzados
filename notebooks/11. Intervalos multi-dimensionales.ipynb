{
 "metadata": {
  "kernelspec": {
   "display_name": "Julia 0.3.8-pre",
   "language": "julia",
   "name": "julia 0.3"
  },
  "language_info": {
   "name": "julia",
   "version": "0.3.8"
  },
  "name": ""
 },
 "nbformat": 3,
 "nbformat_minor": 0,
 "worksheets": [
  {
   "cells": [
    {
     "cell_type": "heading",
     "level": 1,
     "metadata": {},
     "source": [
      "Intervalos multi-dimensionales "
     ]
    },
    {
     "cell_type": "markdown",
     "metadata": {},
     "source": [
      "Para resolver problemas en m\u00e1s que una dimensi\u00f3n, ser\u00e1 necesario poder calcular un *enclosure* (\"encierro\") de la imagen de una funci\u00f3n sobre un conjunto en varias dimensiones.\n",
      "Para ello, podemos definir **intervalos multi-dimensionales**, de manera an\u00e1loga a los intervalos uni-dimensionales que ya conocemos."
     ]
    },
    {
     "cell_type": "markdown",
     "metadata": {},
     "source": [
      "[1] \u00bfCu\u00e1l ser\u00eda una definici\u00f3n matem\u00e1tica razonable de un intervalo multi-dimensional?"
     ]
    },
    {
     "cell_type": "markdown",
     "metadata": {},
     "source": [
      "[2] \u00bfC\u00f3mo podr\u00edamos expresar esto en Julia? Da dos posibilidades.\n",
      "\n",
      "[Pista: Checa `typealias`]"
     ]
    },
    {
     "cell_type": "markdown",
     "metadata": {},
     "source": [
      "[3] \u00bfCu\u00e1les operaciones matem\u00e1ticas necesitaremos definir sobre los intervalos multi-dimensionales? Implem\u00e9ntalos en un m\u00f3dulo. \u00bfCu\u00e1l de las dos definiciones resulta m\u00e1s \u00fatil en ese respecto?"
     ]
    },
    {
     "cell_type": "markdown",
     "metadata": {},
     "source": [
      "[4] Considera la funci\u00f3n $f: \\mathbb{R}^2 \\to \\mathbb{R}^2$, dada por $f(x,y) = \\mathsf{M} \\cdot \\mathbf{x}$, con $\\mathsf{M} = \\begin{pmatrix} 2 & 1 \\\\ 1 & 1 \\end{pmatrix}$.\n",
      "\n",
      "(i) Encuentra a mano la imagen del cuadrado unitario. Encuentra el intervalo multi-dimensional m\u00e1s peque\u00f1o que contiene este conjunto.\n",
      "\n",
      "(ii) Verifica el resultado con tu c\u00f3digo.\n",
      "\n",
      "(iii) \u00bfCu\u00e1l es el problema que ocurre? \u00bfC\u00f3mo lo podr\u00edamos resolver? Implem\u00e9ntalo."
     ]
    },
    {
     "cell_type": "markdown",
     "metadata": {},
     "source": [
      "[5] Haz lo mismo para la imagen del cuadrado unitario bajo la funci\u00f3n \n",
      "\n",
      "$$ \\begin{pmatrix} x \\\\ y \\end{pmatrix} \\mapsto \n",
      "\\begin{pmatrix} 1 - ax^2 + y \\\\ b x \\end{pmatrix},$$\n",
      "\n",
      "con $a = 1.4$ y $b=0.3$ (el famoso \"mapeo de H\u00e9non\")."
     ]
    }
   ],
   "metadata": {}
  }
 ]
}