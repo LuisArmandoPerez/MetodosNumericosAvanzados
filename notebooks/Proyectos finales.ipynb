{
 "metadata": {
  "kernelspec": {
   "display_name": "Julia 0.3.8-pre",
   "language": "julia",
   "name": "julia 0.3"
  },
  "language_info": {
   "name": "julia",
   "version": "0.3.8"
  },
  "name": ""
 },
 "nbformat": 3,
 "nbformat_minor": 0,
 "worksheets": [
  {
   "cells": [
    {
     "cell_type": "heading",
     "level": 1,
     "metadata": {},
     "source": [
      "Proyectos finales"
     ]
    },
    {
     "cell_type": "markdown",
     "metadata": {},
     "source": [
      "Una parte importante del curso son los proyectos finales. Sugiero que se hagan en parejas.\n",
      "\n",
      "Hay que entregar\n",
      "- C\u00f3digo, en forma de un m\u00f3dulo con tests\n",
      "- Un notebook, en el cual se explican las matem\u00e1ticas y se muestra c\u00f3mo se utiliza el c\u00f3digo.\n",
      "\n",
      "Las presentaciones orales tendr\u00e1n lugar el **22 de junio** (o antes para aqu\u00e9llos que no pueden ese d\u00eda)."
     ]
    },
    {
     "cell_type": "heading",
     "level": 2,
     "metadata": {},
     "source": [
      "Temas"
     ]
    },
    {
     "cell_type": "markdown",
     "metadata": {},
     "source": [
      "El tema puede ser cualquier tema relacionado con el uso de aritm\u00e9tica de intervalos y/o c\u00e1lculos num\u00e9ricos validados. Es importante que el proyecto sea factible. Unas sugerencias de temas:\n",
      "\n",
      "- Aritm\u00e9tica de bolas (\"ball arithmetic\")\n",
      "\n",
      "- Newton + Krawczyk en $n$ dimensiones (empezando con $n=2$)\n",
      "\n",
      "- Optimizaci\u00f3n (encontrar m\u00ednimos y m\u00e1ximos globales de funciones complicadas)\n",
      "\n",
      "- \u00c1lgebra lineal con intervalos\n",
      "\n",
      "- Resolver num\u00e9ricamente ecuaciones diferenciales"
     ]
    },
    {
     "cell_type": "heading",
     "level": 2,
     "metadata": {},
     "source": [
      "Bibliograf\u00eda"
     ]
    },
    {
     "cell_type": "markdown",
     "metadata": {},
     "source": [
      "Libros:\n",
      "\n",
      "- Tucker, *Validated Numerics*\n",
      "- Moore, *Introduction to Interval Analysis*\n",
      "- Hansen & Walster, *Global Optimization Using Interval Analysis*\n",
      "\n",
      "Art\u00edculos:\n",
      "- S.M. Rump, Verification methods: Rigorous results using floating-point arithmetic. *Acta Numerica*, **19**, 287\u2013-449 (2010)\n",
      "\n",
      "- W. Tucker, A Rigorous ODE solver and Smale's 14th Problem. Ver http://www2.math.uu.se/~warwick/main/rodes.html\n",
      "\n",
      "- F. Johansson, High precision ball arithmetic. Ver http://fredrikj.net/blog/2012/04/high-precision-ball-arithmetic/"
     ]
    }
   ],
   "metadata": {}
  }
 ]
}