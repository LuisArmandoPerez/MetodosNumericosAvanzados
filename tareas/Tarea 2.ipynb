{
 "metadata": {
  "language": "Julia",
  "name": "",
  "signature": "sha256:12e928af8e95970a1cb12fb4a514de1abd74c2f55fc20147598e23b5b86a5cc7"
 },
 "nbformat": 3,
 "nbformat_minor": 0,
 "worksheets": [
  {
   "cells": [
    {
     "cell_type": "heading",
     "level": 1,
     "metadata": {},
     "source": [
      "Tarea 2"
     ]
    },
    {
     "cell_type": "heading",
     "level": 2,
     "metadata": {},
     "source": [
      "Fecha l\u00edmite: Domingo 22 de febrero a las 23:59"
     ]
    },
    {
     "cell_type": "markdown",
     "metadata": {},
     "source": [
      "[1] Termina el notebook 3 (representaci\u00f3n de n\u00fameros).\n",
      "\n",
      "[2] Crea una cuenta en GitHub (si todav\u00eda no tienes una).\n",
      "\n",
      "[3] Crea un repositorio de tareas resueltas en tu cuenta y sube tu tarea.\n",
      "\n",
      "[4] M\u00e1ndanos la liga del repositorio a \n",
      "\n",
      "[Luis](mailto:benet@fis.unam.mx) y a [David](mailto:dpsanders@ciencias.unam.mx)"
     ]
    }
   ],
   "metadata": {}
  }
 ]
}